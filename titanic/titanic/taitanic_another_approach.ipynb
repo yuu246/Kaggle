{
 "cells": [
  {
   "cell_type": "code",
   "execution_count": 1,
   "metadata": {},
   "outputs": [],
   "source": [
    "import numpy as np\n",
    "import pandas as pd\n",
    "import matplotlib.pyplot as plt\n",
    "import warnings\n",
    "warnings.filterwarnings('ignore')\n",
    "from sklearn.preprocessing import StandardScaler, MinMaxScaler, LabelEncoder, OneHotEncoder\n",
    "\n",
    "from sklearn.model_selection import train_test_split, KFold, StratifiedKFold\n",
    "from sklearn.metrics import accuracy_score, roc_auc_score, confusion_matrix\n",
    "import lightgbm as lgb\n"
   ]
  },
  {
   "cell_type": "code",
   "execution_count": 2,
   "metadata": {},
   "outputs": [],
   "source": [
    "train = pd.read_csv('train.csv')\n",
    "test= pd.read_csv('test.csv')"
   ]
  },
  {
   "cell_type": "code",
   "execution_count": 3,
   "metadata": {},
   "outputs": [
    {
     "name": "stdout",
     "output_type": "stream",
     "text": [
      "<class 'pandas.core.frame.DataFrame'>\n",
      "RangeIndex: 891 entries, 0 to 890\n",
      "Data columns (total 12 columns):\n",
      " #   Column       Non-Null Count  Dtype  \n",
      "---  ------       --------------  -----  \n",
      " 0   PassengerId  891 non-null    int64  \n",
      " 1   Survived     891 non-null    int64  \n",
      " 2   Pclass       891 non-null    int64  \n",
      " 3   Name         891 non-null    object \n",
      " 4   Sex          891 non-null    object \n",
      " 5   Age          714 non-null    float64\n",
      " 6   SibSp        891 non-null    int64  \n",
      " 7   Parch        891 non-null    int64  \n",
      " 8   Ticket       891 non-null    object \n",
      " 9   Fare         891 non-null    float64\n",
      " 10  Cabin        204 non-null    object \n",
      " 11  Embarked     889 non-null    object \n",
      "dtypes: float64(2), int64(5), object(5)\n",
      "memory usage: 83.7+ KB\n"
     ]
    }
   ],
   "source": [
    "train.info()"
   ]
  },
  {
   "cell_type": "code",
   "execution_count": 4,
   "metadata": {},
   "outputs": [],
   "source": [
    "train_x, train_y = train[['Pclass', 'Fare', 'Age']], train[['Survived']]"
   ]
  },
  {
   "cell_type": "code",
   "execution_count": 5,
   "metadata": {},
   "outputs": [],
   "source": [
    "x_tr, x_va, y_tr, y_va = train_test_split(train_x, train_y, test_size=0.2, shuffle=True, stratify=train_y, random_state=123)\n"
   ]
  },
  {
   "cell_type": "code",
   "execution_count": 6,
   "metadata": {},
   "outputs": [
    {
     "name": "stdout",
     "output_type": "stream",
     "text": [
      "----------------------------------------\n",
      "[100]\tvalid_0's auc: 0.721937\n",
      "0.824438202247191 0.7039106145251397\n",
      "----------------------------------------\n",
      "[100]\tvalid_0's auc: 0.736096\n",
      "0.7573632538569425 0.7191011235955056\n",
      "----------------------------------------\n",
      "[100]\tvalid_0's auc: 0.75488\n",
      "0.7026647966339411 0.6573033707865169\n",
      "----------------------------------------\n",
      "[100]\tvalid_0's auc: 0.730348\n",
      "0.7685834502103787 0.6741573033707865\n",
      "----------------------------------------\n",
      "[100]\tvalid_0's auc: 0.746177\n",
      "0.7769985974754559 0.7134831460674157\n",
      "----------------------------------------\n",
      "[[1.         0.8244382  0.70391061]\n",
      " [2.         0.75736325 0.71910112]\n",
      " [3.         0.7026648  0.65730337]\n",
      " [4.         0.76858345 0.6741573 ]\n",
      " [5.         0.7769986  0.71348315]]\n"
     ]
    }
   ],
   "source": [
    "params = {\n",
    "    'boosting_type': 'gbdt',\n",
    "    'objective': 'binary',\n",
    "    'metric': 'auc',\n",
    "    'learning_rate': 0.1,\n",
    "    'num_leaves': 16,\n",
    "    'n_estimators': 100000,\n",
    "    'random_state': 123,\n",
    "    'importance_type': 'gain',\n",
    "}\n",
    "\n",
    "metrics = []\n",
    "imp = pd.DataFrame()\n",
    "fold = 0\n",
    "cv = StratifiedKFold(n_splits=5, shuffle=True, random_state=123).split(train_x, train_y)\n",
    "\n",
    "for idx_tr, idx_va in list(cv):\n",
    "    fold += 1\n",
    "    print('-' * 40)\n",
    "    x_tr, y_tr = train_x.loc[idx_tr, :], train_y.loc[idx_tr, :]\n",
    "    x_va, y_va = train_x.loc[idx_va, :], train_y.loc[idx_va, :]\n",
    "    \n",
    "    model = lgb.LGBMClassifier(**params)\n",
    "    model.fit(x_tr, y_tr, eval_set=[(x_va, y_va)], early_stopping_rounds=100, verbose=100,)\n",
    "\n",
    "    y_tr_pred = model.predict(x_tr)\n",
    "    y_va_pred = model.predict(x_va)\n",
    "    metrics_tr = accuracy_score(y_tr, y_tr_pred)\n",
    "    metrics_va = accuracy_score(y_va, y_va_pred)\n",
    "    print(metrics_tr, metrics_va)\n",
    "    metrics.append([fold, metrics_tr, metrics_va])\n",
    "\n",
    "print('-' * 40)\n",
    "metrics = np.array(metrics)\n",
    "print(metrics)\n"
   ]
  },
  {
   "cell_type": "code",
   "execution_count": 7,
   "metadata": {},
   "outputs": [
    {
     "name": "stdout",
     "output_type": "stream",
     "text": [
      "[336.67414913 643.20775247 529.5688886 ]\n"
     ]
    }
   ],
   "source": [
    "print(model.feature_importances_)"
   ]
  },
  {
   "cell_type": "code",
   "execution_count": 8,
   "metadata": {},
   "outputs": [],
   "source": [
    "y_test_pred = model.predict(test[['Pclass', 'Fare', 'Age']])\n",
    "sub = pd.DataFrame({\"PassengerId\": test['PassengerId'], \"Survived\": y_test_pred})"
   ]
  },
  {
   "cell_type": "code",
   "execution_count": 9,
   "metadata": {},
   "outputs": [],
   "source": [
    "sub.to_csv('second_submission.csv', index=None)"
   ]
  },
  {
   "cell_type": "code",
   "execution_count": null,
   "metadata": {},
   "outputs": [],
   "source": []
  }
 ],
 "metadata": {
  "kernelspec": {
   "display_name": "Python 3",
   "language": "python",
   "name": "python3"
  },
  "language_info": {
   "codemirror_mode": {
    "name": "ipython",
    "version": 3
   },
   "file_extension": ".py",
   "mimetype": "text/x-python",
   "name": "python",
   "nbconvert_exporter": "python",
   "pygments_lexer": "ipython3",
   "version": "3.10.6"
  },
  "orig_nbformat": 4
 },
 "nbformat": 4,
 "nbformat_minor": 2
}
